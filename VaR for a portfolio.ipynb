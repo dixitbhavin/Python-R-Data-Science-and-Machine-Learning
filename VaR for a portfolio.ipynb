{
 "cells": [
  {
   "cell_type": "code",
   "execution_count": 4,
   "metadata": {},
   "outputs": [],
   "source": [
    "import pandas as pd\n",
    "import numpy as np\n",
    "from pandas_datareader import data as pdr\n",
    "import yfinance as yf\n",
    "import datetime as dt"
   ]
  },
  {
   "cell_type": "code",
   "execution_count": 13,
   "metadata": {},
   "outputs": [],
   "source": [
    "# Creating our portfolio of equities\n",
    "tickers=['AAPL','FB','C','DIS']"
   ]
  },
  {
   "cell_type": "code",
   "execution_count": 14,
   "metadata": {},
   "outputs": [],
   "source": [
    "# Set weights \n",
    "weights=np.array([.25,.3,.15,.3])"
   ]
  },
  {
   "cell_type": "code",
   "execution_count": 15,
   "metadata": {},
   "outputs": [],
   "source": [
    "initial_investment=1000000"
   ]
  },
  {
   "cell_type": "code",
   "execution_count": 16,
   "metadata": {},
   "outputs": [],
   "source": [
    "data=pdr.get_data_yahoo(tickers,start='2018-01-01',end=dt.date.today())['Close']"
   ]
  },
  {
   "cell_type": "code",
   "execution_count": 17,
   "metadata": {},
   "outputs": [],
   "source": [
    "returns=data.pct_change()"
   ]
  },
  {
   "cell_type": "code",
   "execution_count": 18,
   "metadata": {},
   "outputs": [
    {
     "data": {
      "text/html": [
       "<div>\n",
       "<style scoped>\n",
       "    .dataframe tbody tr th:only-of-type {\n",
       "        vertical-align: middle;\n",
       "    }\n",
       "\n",
       "    .dataframe tbody tr th {\n",
       "        vertical-align: top;\n",
       "    }\n",
       "\n",
       "    .dataframe thead th {\n",
       "        text-align: right;\n",
       "    }\n",
       "</style>\n",
       "<table border=\"1\" class=\"dataframe\">\n",
       "  <thead>\n",
       "    <tr style=\"text-align: right;\">\n",
       "      <th>Symbols</th>\n",
       "      <th>AAPL</th>\n",
       "      <th>FB</th>\n",
       "      <th>C</th>\n",
       "      <th>DIS</th>\n",
       "    </tr>\n",
       "    <tr>\n",
       "      <th>Date</th>\n",
       "      <th></th>\n",
       "      <th></th>\n",
       "      <th></th>\n",
       "      <th></th>\n",
       "    </tr>\n",
       "  </thead>\n",
       "  <tbody>\n",
       "    <tr>\n",
       "      <td>2018-01-02</td>\n",
       "      <td>NaN</td>\n",
       "      <td>NaN</td>\n",
       "      <td>NaN</td>\n",
       "      <td>NaN</td>\n",
       "    </tr>\n",
       "    <tr>\n",
       "      <td>2018-01-03</td>\n",
       "      <td>-0.000174</td>\n",
       "      <td>0.017914</td>\n",
       "      <td>0.003093</td>\n",
       "      <td>0.004293</td>\n",
       "    </tr>\n",
       "    <tr>\n",
       "      <td>2018-01-04</td>\n",
       "      <td>0.004645</td>\n",
       "      <td>-0.001841</td>\n",
       "      <td>0.012334</td>\n",
       "      <td>-0.000445</td>\n",
       "    </tr>\n",
       "    <tr>\n",
       "      <td>2018-01-05</td>\n",
       "      <td>0.011385</td>\n",
       "      <td>0.013671</td>\n",
       "      <td>-0.001324</td>\n",
       "      <td>-0.005435</td>\n",
       "    </tr>\n",
       "    <tr>\n",
       "      <td>2018-01-08</td>\n",
       "      <td>-0.003714</td>\n",
       "      <td>0.007653</td>\n",
       "      <td>-0.011670</td>\n",
       "      <td>-0.014334</td>\n",
       "    </tr>\n",
       "  </tbody>\n",
       "</table>\n",
       "</div>"
      ],
      "text/plain": [
       "Symbols         AAPL        FB         C       DIS\n",
       "Date                                              \n",
       "2018-01-02       NaN       NaN       NaN       NaN\n",
       "2018-01-03 -0.000174  0.017914  0.003093  0.004293\n",
       "2018-01-04  0.004645 -0.001841  0.012334 -0.000445\n",
       "2018-01-05  0.011385  0.013671 -0.001324 -0.005435\n",
       "2018-01-08 -0.003714  0.007653 -0.011670 -0.014334"
      ]
     },
     "execution_count": 18,
     "metadata": {},
     "output_type": "execute_result"
    }
   ],
   "source": [
    "returns.head()"
   ]
  },
  {
   "cell_type": "code",
   "execution_count": 20,
   "metadata": {},
   "outputs": [
    {
     "data": {
      "text/html": [
       "<div>\n",
       "<style scoped>\n",
       "    .dataframe tbody tr th:only-of-type {\n",
       "        vertical-align: middle;\n",
       "    }\n",
       "\n",
       "    .dataframe tbody tr th {\n",
       "        vertical-align: top;\n",
       "    }\n",
       "\n",
       "    .dataframe thead th {\n",
       "        text-align: right;\n",
       "    }\n",
       "</style>\n",
       "<table border=\"1\" class=\"dataframe\">\n",
       "  <thead>\n",
       "    <tr style=\"text-align: right;\">\n",
       "      <th>Symbols</th>\n",
       "      <th>AAPL</th>\n",
       "      <th>FB</th>\n",
       "      <th>C</th>\n",
       "      <th>DIS</th>\n",
       "    </tr>\n",
       "    <tr>\n",
       "      <th>Date</th>\n",
       "      <th></th>\n",
       "      <th></th>\n",
       "      <th></th>\n",
       "      <th></th>\n",
       "    </tr>\n",
       "  </thead>\n",
       "  <tbody>\n",
       "    <tr>\n",
       "      <td>2018-01-02</td>\n",
       "      <td>43.064999</td>\n",
       "      <td>181.419998</td>\n",
       "      <td>74.360001</td>\n",
       "      <td>111.800003</td>\n",
       "    </tr>\n",
       "    <tr>\n",
       "      <td>2018-01-03</td>\n",
       "      <td>43.057499</td>\n",
       "      <td>184.669998</td>\n",
       "      <td>74.589996</td>\n",
       "      <td>112.279999</td>\n",
       "    </tr>\n",
       "    <tr>\n",
       "      <td>2018-01-04</td>\n",
       "      <td>43.257500</td>\n",
       "      <td>184.330002</td>\n",
       "      <td>75.510002</td>\n",
       "      <td>112.230003</td>\n",
       "    </tr>\n",
       "    <tr>\n",
       "      <td>2018-01-05</td>\n",
       "      <td>43.750000</td>\n",
       "      <td>186.850006</td>\n",
       "      <td>75.410004</td>\n",
       "      <td>111.620003</td>\n",
       "    </tr>\n",
       "    <tr>\n",
       "      <td>2018-01-08</td>\n",
       "      <td>43.587502</td>\n",
       "      <td>188.279999</td>\n",
       "      <td>74.529999</td>\n",
       "      <td>110.019997</td>\n",
       "    </tr>\n",
       "    <tr>\n",
       "      <td>...</td>\n",
       "      <td>...</td>\n",
       "      <td>...</td>\n",
       "      <td>...</td>\n",
       "      <td>...</td>\n",
       "    </tr>\n",
       "    <tr>\n",
       "      <td>2021-03-16</td>\n",
       "      <td>125.570000</td>\n",
       "      <td>279.279999</td>\n",
       "      <td>73.330002</td>\n",
       "      <td>194.240005</td>\n",
       "    </tr>\n",
       "    <tr>\n",
       "      <td>2021-03-17</td>\n",
       "      <td>124.760002</td>\n",
       "      <td>284.010010</td>\n",
       "      <td>73.599998</td>\n",
       "      <td>195.240005</td>\n",
       "    </tr>\n",
       "    <tr>\n",
       "      <td>2021-03-18</td>\n",
       "      <td>120.529999</td>\n",
       "      <td>278.619995</td>\n",
       "      <td>73.839996</td>\n",
       "      <td>192.279999</td>\n",
       "    </tr>\n",
       "    <tr>\n",
       "      <td>2021-03-19</td>\n",
       "      <td>119.989998</td>\n",
       "      <td>290.109985</td>\n",
       "      <td>73.010002</td>\n",
       "      <td>191.139999</td>\n",
       "    </tr>\n",
       "    <tr>\n",
       "      <td>2021-03-22</td>\n",
       "      <td>123.389999</td>\n",
       "      <td>293.540009</td>\n",
       "      <td>71.959999</td>\n",
       "      <td>192.860001</td>\n",
       "    </tr>\n",
       "  </tbody>\n",
       "</table>\n",
       "<p>810 rows × 4 columns</p>\n",
       "</div>"
      ],
      "text/plain": [
       "Symbols           AAPL          FB          C         DIS\n",
       "Date                                                     \n",
       "2018-01-02   43.064999  181.419998  74.360001  111.800003\n",
       "2018-01-03   43.057499  184.669998  74.589996  112.279999\n",
       "2018-01-04   43.257500  184.330002  75.510002  112.230003\n",
       "2018-01-05   43.750000  186.850006  75.410004  111.620003\n",
       "2018-01-08   43.587502  188.279999  74.529999  110.019997\n",
       "...                ...         ...        ...         ...\n",
       "2021-03-16  125.570000  279.279999  73.330002  194.240005\n",
       "2021-03-17  124.760002  284.010010  73.599998  195.240005\n",
       "2021-03-18  120.529999  278.619995  73.839996  192.279999\n",
       "2021-03-19  119.989998  290.109985  73.010002  191.139999\n",
       "2021-03-22  123.389999  293.540009  71.959999  192.860001\n",
       "\n",
       "[810 rows x 4 columns]"
      ]
     },
     "execution_count": 20,
     "metadata": {},
     "output_type": "execute_result"
    }
   ],
   "source": [
    "data"
   ]
  },
  {
   "cell_type": "code",
   "execution_count": 21,
   "metadata": {},
   "outputs": [
    {
     "data": {
      "text/html": [
       "<div>\n",
       "<style scoped>\n",
       "    .dataframe tbody tr th:only-of-type {\n",
       "        vertical-align: middle;\n",
       "    }\n",
       "\n",
       "    .dataframe tbody tr th {\n",
       "        vertical-align: top;\n",
       "    }\n",
       "\n",
       "    .dataframe thead th {\n",
       "        text-align: right;\n",
       "    }\n",
       "</style>\n",
       "<table border=\"1\" class=\"dataframe\">\n",
       "  <thead>\n",
       "    <tr style=\"text-align: right;\">\n",
       "      <th>Symbols</th>\n",
       "      <th>AAPL</th>\n",
       "      <th>FB</th>\n",
       "      <th>C</th>\n",
       "      <th>DIS</th>\n",
       "    </tr>\n",
       "    <tr>\n",
       "      <th>Symbols</th>\n",
       "      <th></th>\n",
       "      <th></th>\n",
       "      <th></th>\n",
       "      <th></th>\n",
       "    </tr>\n",
       "  </thead>\n",
       "  <tbody>\n",
       "    <tr>\n",
       "      <td>AAPL</td>\n",
       "      <td>0.000488</td>\n",
       "      <td>0.000328</td>\n",
       "      <td>0.000296</td>\n",
       "      <td>0.000209</td>\n",
       "    </tr>\n",
       "    <tr>\n",
       "      <td>FB</td>\n",
       "      <td>0.000328</td>\n",
       "      <td>0.000565</td>\n",
       "      <td>0.000260</td>\n",
       "      <td>0.000194</td>\n",
       "    </tr>\n",
       "    <tr>\n",
       "      <td>C</td>\n",
       "      <td>0.000296</td>\n",
       "      <td>0.000260</td>\n",
       "      <td>0.000743</td>\n",
       "      <td>0.000366</td>\n",
       "    </tr>\n",
       "    <tr>\n",
       "      <td>DIS</td>\n",
       "      <td>0.000209</td>\n",
       "      <td>0.000194</td>\n",
       "      <td>0.000366</td>\n",
       "      <td>0.000442</td>\n",
       "    </tr>\n",
       "  </tbody>\n",
       "</table>\n",
       "</div>"
      ],
      "text/plain": [
       "Symbols      AAPL        FB         C       DIS\n",
       "Symbols                                        \n",
       "AAPL     0.000488  0.000328  0.000296  0.000209\n",
       "FB       0.000328  0.000565  0.000260  0.000194\n",
       "C        0.000296  0.000260  0.000743  0.000366\n",
       "DIS      0.000209  0.000194  0.000366  0.000442"
      ]
     },
     "execution_count": 21,
     "metadata": {},
     "output_type": "execute_result"
    }
   ],
   "source": [
    "# Variance-Covariance Matrix\n",
    "cov_matrix=returns.cov()\n",
    "cov_matrix"
   ]
  },
  {
   "cell_type": "code",
   "execution_count": 22,
   "metadata": {},
   "outputs": [],
   "source": [
    "avg_returns=returns.mean()"
   ]
  },
  {
   "cell_type": "code",
   "execution_count": 23,
   "metadata": {},
   "outputs": [
    {
     "data": {
      "text/plain": [
       "Symbols\n",
       "AAPL    0.001546\n",
       "FB      0.000881\n",
       "C       0.000333\n",
       "DIS     0.000893\n",
       "dtype: float64"
      ]
     },
     "execution_count": 23,
     "metadata": {},
     "output_type": "execute_result"
    }
   ],
   "source": [
    "avg_returns"
   ]
  },
  {
   "cell_type": "code",
   "execution_count": 24,
   "metadata": {},
   "outputs": [],
   "source": [
    "port_mean=avg_returns.dot(weights)"
   ]
  },
  {
   "cell_type": "code",
   "execution_count": 25,
   "metadata": {},
   "outputs": [],
   "source": [
    "port_stdev=np.sqrt(weights.T.dot(cov_matrix).dot(weights))"
   ]
  },
  {
   "cell_type": "code",
   "execution_count": 30,
   "metadata": {},
   "outputs": [],
   "source": [
    "mean_investment=(1+port_mean)*initial_investment"
   ]
  },
  {
   "cell_type": "code",
   "execution_count": 29,
   "metadata": {},
   "outputs": [],
   "source": [
    "std_investment=initial_investment*port_stdev"
   ]
  },
  {
   "cell_type": "code",
   "execution_count": 31,
   "metadata": {},
   "outputs": [
    {
     "name": "stderr",
     "output_type": "stream",
     "text": [
      "C:\\Users\\dixit\\Anaconda3\\lib\\importlib\\_bootstrap.py:219: RuntimeWarning: numpy.ufunc size changed, may indicate binary incompatibility. Expected 192 from C header, got 216 from PyObject\n",
      "  return f(*args, **kwds)\n",
      "C:\\Users\\dixit\\Anaconda3\\lib\\importlib\\_bootstrap.py:219: RuntimeWarning: numpy.ufunc size changed, may indicate binary incompatibility. Expected 192 from C header, got 216 from PyObject\n",
      "  return f(*args, **kwds)\n"
     ]
    }
   ],
   "source": [
    "#Calculating cutoff value from normal distribution using mean and std of our portfolio\n",
    "conf_level=0.05\n",
    "from scipy.stats import norm\n",
    "cut_off=norm.ppf(conf_level,mean_investment,std_investment)"
   ]
  },
  {
   "cell_type": "code",
   "execution_count": 32,
   "metadata": {},
   "outputs": [],
   "source": [
    "VaR=initial_investment-cut_off"
   ]
  },
  {
   "cell_type": "code",
   "execution_count": 33,
   "metadata": {},
   "outputs": [
    {
     "data": {
      "text/plain": [
       "28989.671045625466"
      ]
     },
     "execution_count": 33,
     "metadata": {},
     "output_type": "execute_result"
    }
   ],
   "source": [
    "VaR"
   ]
  },
  {
   "cell_type": "code",
   "execution_count": 43,
   "metadata": {},
   "outputs": [
    {
     "name": "stdout",
     "output_type": "stream",
     "text": [
      "1 Day VaR @ 99% confidence: 28989.67\n",
      "2 Day VaR @ 99% confidence: 40997.59\n",
      "3 Day VaR @ 99% confidence: 50211.58\n",
      "4 Day VaR @ 99% confidence: 57979.34\n",
      "5 Day VaR @ 99% confidence: 64822.88\n",
      "6 Day VaR @ 99% confidence: 71009.9\n",
      "7 Day VaR @ 99% confidence: 76699.46\n",
      "8 Day VaR @ 99% confidence: 81995.17\n",
      "9 Day VaR @ 99% confidence: 86969.01\n",
      "10 Day VaR @ 99% confidence: 91673.39\n",
      "11 Day VaR @ 99% confidence: 96147.86\n",
      "12 Day VaR @ 99% confidence: 100423.17\n",
      "13 Day VaR @ 99% confidence: 104523.75\n",
      "14 Day VaR @ 99% confidence: 108469.42\n",
      "15 Day VaR @ 99% confidence: 112276.51\n"
     ]
    }
   ],
   "source": [
    "# Calculating n day VaR\n",
    "var_array=[]\n",
    "num_days=int(15)\n",
    "for x in range(1,num_days+1):\n",
    "    var_array.append(np.round(VaR*np.sqrt(x),2))\n",
    "    print(str(x)+ \" Day VaR @ 99% confidence: \"+ str(np.round(VaR*np.sqrt(x),2)))"
   ]
  },
  {
   "cell_type": "code",
   "execution_count": 51,
   "metadata": {},
   "outputs": [
    {
     "name": "stderr",
     "output_type": "stream",
     "text": [
      "UsageError: Line magic function `%matplotlibinline` not found.\n"
     ]
    },
    {
     "data": {
      "image/png": "[encoded data removed]",
      "text/plain": [
       "<Figure size 432x288 with 1 Axes>"
      ]
     },
     "metadata": {
      "needs_background": "light"
     },
     "output_type": "display_data"
    }
   ],
   "source": [
    "# Build plot\n",
    "import matplotlib.pyplot as plt\n",
    "plt.xlabel(\"Day #\")\n",
    "plt.ylabel(\"Max loss in (USD)\")\n",
    "plt.title(\"VaR over 15-Day period\")\n",
    "plt.plot(var_array,\"b\")\n",
    "%matplotlibinline"
   ]
  },
  {
   "cell_type": "code",
   "execution_count": null,
   "metadata": {},
   "outputs": [],
   "source": []
  }
 ],
 "metadata": {
  "kernelspec": {
   "display_name": "Python 3",
   "language": "python",
   "name": "python3"
  },
  "language_info": {
   "codemirror_mode": {
    "name": "ipython",
    "version": 3
   },
   "file_extension": ".py",
   "mimetype": "text/x-python",
   "name": "python",
   "nbconvert_exporter": "python",
   "pygments_lexer": "ipython3",
   "version": "3.7.4"
  }
 },
 "nbformat": 4,
 "nbformat_minor": 2
}
