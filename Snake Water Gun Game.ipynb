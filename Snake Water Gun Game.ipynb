{
 "cells": [
  {
   "cell_type": "code",
   "execution_count": 1,
   "metadata": {},
   "outputs": [],
   "source": [
    "import random"
   ]
  },
  {
   "cell_type": "code",
   "execution_count": 2,
   "metadata": {},
   "outputs": [
    {
     "name": "stdout",
     "output_type": "stream",
     "text": [
      "Welcome to the Game of Snake Gun Water.Let's begin!!\n",
      "Enter your choice:w\n",
      "Sorry you lost:Your point 0 Computer point1\n",
      "Enter your choice:w\n",
      "It's a tie\n",
      "Enter your choice:w\n",
      "Sorry you lost:Your point 0 Computer point2\n",
      "Enter your choice:w\n",
      "It's a tie\n",
      "Enter your choice:w\n",
      "Sorry you lost:Your point 0 Computer point3\n",
      "Game Over \n",
      "You lost\n",
      "your points is 0 and computer point is 3\n"
     ]
    }
   ],
   "source": [
    "print(\"Welcome to the Game of Snake Gun Water.Let's begin!!\")\n",
    "y=(\"Snake\",\"Water\",\"Gun\")\n",
    "\n",
    "user=0\n",
    "computer=0\n",
    "games=1\n",
    "while games<6:\n",
    "    x=input(\"Enter your choice:\" )\n",
    "    z=random.choice(y)\n",
    "    if x==\"Snake\"or x=='s' or x==\"S\":\n",
    "        if z==\"Snake\":\n",
    "            print(\"It's a tie\")\n",
    "        elif z==\"Water\":\n",
    "            user+=1\n",
    "            print(f\"Congrtas you won:Your point {user} Computer point {computer}\")\n",
    "        elif z==\"Gun\":\n",
    "            computer+=1\n",
    "            print(f\"Sorry you lost:Your point {user} Computer point {computer}\")\n",
    "    elif x==\"Gun\" or x=='g' or x=='G':\n",
    "        if z==\"Snake\":\n",
    "            user+=1\n",
    "            print(f\"Congrtas you won:Your point {user}  Computer point {computer}\")\n",
    "        elif z==\"Water\":\n",
    "            computer+=1\n",
    "            print(f\"Sorry you lost:Your point {user} Computer point {computer}\")\n",
    "        else:\n",
    "            print(\"It's a tie\")\n",
    "    elif x==\"Water\" or x=='w' or x==\"W\":\n",
    "        if z==\"Snake\":\n",
    "            computer+=1\n",
    "            print(f\"Sorry you lost:Your point {user} Computer point{computer}\")\n",
    "        elif z==\"Gun\":\n",
    "            user+=1\n",
    "            print(f\"Congrtas you won:Your point {user} Computer point {computer}\")\n",
    "        else:\n",
    "            print(\"It's a tie\")\n",
    "            \n",
    "        games+=1            \n",
    "\n",
    "print(\"Game Over \")\n",
    "\n",
    "if user>computer:\n",
    "     print( \"Congrats you won\")\n",
    "\n",
    "elif user< computer:\n",
    "     print( \"You lost\")\n",
    "              \n",
    "else:              \n",
    "      print(\"Its a Tie\")\n",
    "            \n",
    "print(f\"your points is {user} and computer point is {computer}\")              "
   ]
  },
  {
   "cell_type": "code",
   "execution_count": null,
   "metadata": {},
   "outputs": [],
   "source": []
  }
 ],
 "metadata": {
  "kernelspec": {
   "display_name": "Python 3",
   "language": "python",
   "name": "python3"
  },
  "language_info": {
   "codemirror_mode": {
    "name": "ipython",
    "version": 3
   },
   "file_extension": ".py",
   "mimetype": "text/x-python",
   "name": "python",
   "nbconvert_exporter": "python",
   "pygments_lexer": "ipython3",
   "version": "3.7.4"
  }
 },
 "nbformat": 4,
 "nbformat_minor": 2
}
