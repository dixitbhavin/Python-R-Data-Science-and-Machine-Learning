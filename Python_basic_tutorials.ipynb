{
 "cells": [
  {
   "cell_type": "markdown",
   "metadata": {},
   "source": [
    "## Python string practise question\n"
   ]
  },
  {
   "cell_type": "markdown",
   "metadata": {},
   "source": [
    "#1 Write a Python program to calculate the length of a string."
   ]
  },
  {
   "cell_type": "code",
   "execution_count": 1,
   "metadata": {},
   "outputs": [
    {
     "name": "stdout",
     "output_type": "stream",
     "text": [
      "Enter a String Hello\n",
      "5\n"
     ]
    }
   ],
   "source": [
    "str=input(\"Enter a String \")\n",
    "print(len(str))"
   ]
  },
  {
   "cell_type": "markdown",
   "metadata": {},
   "source": [
    "#2: Write a Python program to count the number of characters (character frequency) in a string."
   ]
  },
  {
   "cell_type": "code",
   "execution_count": 2,
   "metadata": {},
   "outputs": [
    {
     "name": "stdout",
     "output_type": "stream",
     "text": [
      "Enter a String Welcome\n",
      "{'W': 1, 'e': 2, 'l': 1, 'c': 1, 'o': 1, 'm': 1}\n"
     ]
    }
   ],
   "source": [
    "str=input(\"Enter a String \")\n",
    "string={}\n",
    "for i in str:\n",
    "    if i in string:\n",
    "        string[i]+=1\n",
    "    else:\n",
    "        string[i]=1\n",
    "print(string)                  ## alternatively we can use collections.Counter"
   ]
  },
  {
   "cell_type": "markdown",
   "metadata": {},
   "source": [
    "Q write a python program to print the first two and the last two characters of a string"
   ]
  },
  {
   "cell_type": "code",
   "execution_count": 3,
   "metadata": {},
   "outputs": [
    {
     "name": "stdout",
     "output_type": "stream",
     "text": [
      "Enter a string: world\n",
      "wold\n"
     ]
    }
   ],
   "source": [
    "x=input(\"Enter a string: \")\n",
    "if len(x)<2:\n",
    "    print(\"Empty\")\n",
    "print( x[0:2]+ x[-2:])\n"
   ]
  },
  {
   "cell_type": "markdown",
   "metadata": {},
   "source": [
    "#3 Write a Python program to get a string from a given string where all occurrences of its first char have been changed to '$', except the first char itself"
   ]
  },
  {
   "cell_type": "code",
   "execution_count": 2,
   "metadata": {},
   "outputs": [
    {
     "name": "stdout",
     "output_type": "stream",
     "text": [
      "Enter a string: aeroplane\n",
      "aeropl$ne\n"
     ]
    }
   ],
   "source": [
    "str1=input(\"Enter a string: \")\n",
    "char=str1[0]\n",
    "str1=str1.replace(char,'$')    \n",
    "str1=char+str1[1:]\n",
    "print(str1)\n"
   ]
  },
  {
   "cell_type": "markdown",
   "metadata": {},
   "source": [
    "#4  Write a Python program to get a single string from two given strings, separated by a space and swap the first two characters of each string"
   ]
  },
  {
   "cell_type": "code",
   "execution_count": 4,
   "metadata": {},
   "outputs": [
    {
     "name": "stdout",
     "output_type": "stream",
     "text": [
      "Enter a string: Hello\n",
      "Enter second string: Python\n",
      "Pyllo Hethon\n"
     ]
    }
   ],
   "source": [
    "str1=input(\"Enter a string: \")\n",
    "str2=input(\"Enter second string: \")\n",
    "new_str1=str2[:2]+str1[2:]\n",
    "new_str2=str1[:2]+str2[2:]\n",
    "print(new_str1,new_str2)"
   ]
  },
  {
   "cell_type": "markdown",
   "metadata": {},
   "source": [
    "#5 Write a Python program to add 'ing' at the end of a given string (length should be at least 3). If the given string already ends with 'ing' then add 'ly' instead. If the string length of the given string is less than 3, leave it unchanged.\n"
   ]
  },
  {
   "cell_type": "code",
   "execution_count": 5,
   "metadata": {},
   "outputs": [
    {
     "name": "stdout",
     "output_type": "stream",
     "text": [
      "Enter a string string\n",
      "stringly\n"
     ]
    }
   ],
   "source": [
    "str=input(\"Enter a string \")\n",
    "if len(str)<2:\n",
    "    print(str)\n",
    "if str[-3:]==\"ing\":\n",
    "    print(str+'ly')\n",
    "else:\n",
    "    print(str+\"ing\")\n",
    "    "
   ]
  },
  {
   "cell_type": "markdown",
   "metadata": {},
   "source": [
    "#6 Write a Python program to find the first appearance of the substring 'not' and 'poor' from a given string, if 'not' follows the 'poor', replace the whole 'not'...'poor' substring with 'good'. Return the resulting string"
   ]
  },
  {
   "cell_type": "code",
   "execution_count": 8,
   "metadata": {},
   "outputs": [
    {
     "name": "stdout",
     "output_type": "stream",
     "text": [
      "Enter a string :The lyrics is not that poor\n",
      "The lyrics is good\n"
     ]
    }
   ],
   "source": [
    "str=input(\"Enter a string :\")\n",
    "s_not=str.find('not')\n",
    "s_poor=str.find('poor')\n",
    "if s_poor>s_not and s_not>0 and s_poor>0:\n",
    "    str=str.replace(str[s_not:s_poor+4],\"good\")\n",
    "\n",
    "print(str)\n"
   ]
  },
  {
   "cell_type": "markdown",
   "metadata": {},
   "source": [
    "#7 Write a Python function that takes a list of words and returns the length of the longest one"
   ]
  },
  {
   "cell_type": "code",
   "execution_count": 33,
   "metadata": {},
   "outputs": [],
   "source": [
    "def long(string):\n",
    "    string=input(\"Enter the words\")\n",
    "    length = 0\n",
    "    word_long = 0\n",
    "    for word in string.split():\n",
    "        if len(word) > length:\n",
    "            length = len(word)\n",
    "            word_long = word\n",
    "    return length, word_long\n",
    "    "
   ]
  },
  {
   "cell_type": "code",
   "execution_count": 34,
   "metadata": {},
   "outputs": [
    {
     "name": "stdout",
     "output_type": "stream",
     "text": [
      "Enter the wordsHello World Python\n"
     ]
    },
    {
     "data": {
      "text/plain": [
       "(6, 'Python')"
      ]
     },
     "execution_count": 34,
     "metadata": {},
     "output_type": "execute_result"
    }
   ],
   "source": [
    "long(string)"
   ]
  },
  {
   "cell_type": "markdown",
   "metadata": {},
   "source": [
    "#8 Write a Python program to remove the nth index character from a nonempty string."
   ]
  },
  {
   "cell_type": "code",
   "execution_count": 36,
   "metadata": {},
   "outputs": [
    {
     "name": "stdout",
     "output_type": "stream",
     "text": [
      "enter a stringHello\n",
      "index to be removed3\n",
      "Helo l\n"
     ]
    }
   ],
   "source": [
    "a=input(\"enter a string\")\n",
    "b=int(input(\"index to be removed\"))\n",
    "first=a[:b]\n",
    "second=a[b+1:]\n",
    "final=first+second\n",
    "print(final,a[b])"
   ]
  },
  {
   "cell_type": "markdown",
   "metadata": {},
   "source": [
    "#9 Write a Python program to change a given string to a new string where the first and last chars have been exchanged."
   ]
  },
  {
   "cell_type": "code",
   "execution_count": 37,
   "metadata": {},
   "outputs": [
    {
     "name": "stdout",
     "output_type": "stream",
     "text": [
      "Enter a stringPython\n",
      "nythoP\n"
     ]
    }
   ],
   "source": [
    "string=input(\"Enter a string\")\n",
    "print(string[-1:]+string[1:-1]+string[:1])\n"
   ]
  },
  {
   "cell_type": "markdown",
   "metadata": {},
   "source": [
    "#10 Write a Python program to remove the characters which have odd index values of a given string"
   ]
  },
  {
   "cell_type": "code",
   "execution_count": 38,
   "metadata": {},
   "outputs": [
    {
     "name": "stdout",
     "output_type": "stream",
     "text": [
      "Enter a stringExercise\n",
      "Eecs ['x', 'r', 'i', 'e']\n"
     ]
    }
   ],
   "source": [
    "string=input(\"Enter a string\")\n",
    "new=\"\"\n",
    "letter=[]\n",
    "for n in range(len(string)):\n",
    "    if n%2==0:\n",
    "        new=new+string[n]\n",
    "    else:\n",
    "        letter.append(string[n])\n",
    "print(new , letter)\n",
    "        "
   ]
  },
  {
   "cell_type": "markdown",
   "metadata": {},
   "source": [
    "#12  Write a Python program to count the occurrences of each word in a given sentence"
   ]
  },
  {
   "cell_type": "code",
   "execution_count": 39,
   "metadata": {},
   "outputs": [],
   "source": [
    "def word_counts(str):\n",
    "    str=input(\"enter a string\")\n",
    "    counts=dict()\n",
    "    words=str.split()\n",
    "    for n in words:\n",
    "        if n in counts:\n",
    "            counts[n]+=1\n",
    "        else:\n",
    "            counts[n]=1\n",
    "    return counts\n"
   ]
  },
  {
   "cell_type": "code",
   "execution_count": 40,
   "metadata": {},
   "outputs": [
    {
     "name": "stdout",
     "output_type": "stream",
     "text": [
      "enter a stringHello World Hello Python\n"
     ]
    },
    {
     "data": {
      "text/plain": [
       "{'Hello': 2, 'World': 1, 'Python': 1}"
      ]
     },
     "execution_count": 40,
     "metadata": {},
     "output_type": "execute_result"
    }
   ],
   "source": [
    "word_counts(str)"
   ]
  },
  {
   "cell_type": "markdown",
   "metadata": {},
   "source": [
    "#13 Write a Python script that takes input from the user and displays that input back in upper and lower cases."
   ]
  },
  {
   "cell_type": "code",
   "execution_count": 41,
   "metadata": {},
   "outputs": [
    {
     "name": "stdout",
     "output_type": "stream",
     "text": [
      "Enter a stringWelcome to python programming\n",
      "WELCOME TO PYTHON PROGRAMMING welcome to python programming\n"
     ]
    }
   ],
   "source": [
    "string=input(\"Enter a string\")\n",
    "\n",
    "print(string.upper(),string.lower())\n",
    "\n",
    " \n",
    "    "
   ]
  },
  {
   "cell_type": "markdown",
   "metadata": {},
   "source": [
    "#14 Write a Python program that accepts a comma separated sequence of words as input and prints the unique words in sorted form (alphanumerically)"
   ]
  },
  {
   "cell_type": "code",
   "execution_count": 42,
   "metadata": {},
   "outputs": [
    {
     "name": "stdout",
     "output_type": "stream",
     "text": [
      "enter a commma seperated sequence of words red,orange,green,apple\n",
      "apple,green,orange,red\n"
     ]
    }
   ],
   "source": [
    "Items=input(\"enter a commma seperated sequence of words \")\n",
    "words=[]\n",
    "for n in Items.split(\",\"):\n",
    "    words+=[n]\n",
    "print(','.join(sorted(list(set(words)))))  ## only sorted(words will als"
   ]
  },
  {
   "cell_type": "markdown",
   "metadata": {},
   "source": [
    "#15 Write a Python function to create the HTML string with tags around the word(s)"
   ]
  },
  {
   "cell_type": "code",
   "execution_count": 43,
   "metadata": {},
   "outputs": [],
   "source": [
    "def add_tags(tag,s):\n",
    "    return \"<\"+tag+\">\"+s+ \"<\"+tag+\"/>\""
   ]
  },
  {
   "cell_type": "code",
   "execution_count": 44,
   "metadata": {},
   "outputs": [
    {
     "data": {
      "text/plain": [
       "'<b>Python<b/>'"
      ]
     },
     "execution_count": 44,
     "metadata": {},
     "output_type": "execute_result"
    }
   ],
   "source": [
    "add_tags('b', 'Python')"
   ]
  },
  {
   "cell_type": "markdown",
   "metadata": {},
   "source": [
    "#16 Write a Python function to insert a string in the middle of a string."
   ]
  },
  {
   "cell_type": "code",
   "execution_count": 45,
   "metadata": {},
   "outputs": [],
   "source": [
    "def add(str,word):\n",
    "    i=str.index(\" \")\n",
    "    return str[:i] +\" \"+ word + str[i:]"
   ]
  },
  {
   "cell_type": "code",
   "execution_count": 46,
   "metadata": {},
   "outputs": [
    {
     "data": {
      "text/plain": [
       "'Python Tutorial 3.0'"
      ]
     },
     "execution_count": 46,
     "metadata": {},
     "output_type": "execute_result"
    }
   ],
   "source": [
    "add('Python 3.0','Tutorial')"
   ]
  },
  {
   "cell_type": "markdown",
   "metadata": {},
   "source": [
    "#17 Write a Python function to get a string made of 4 copies of the last two characters of a specified string (length must be at least 2)."
   ]
  },
  {
   "cell_type": "code",
   "execution_count": 47,
   "metadata": {},
   "outputs": [
    {
     "name": "stdout",
     "output_type": "stream",
     "text": [
      "enter a stringhello\n",
      "lolololo\n"
     ]
    }
   ],
   "source": [
    "string=input(\"enter a string\")\n",
    "if len(string)<2:\n",
    "    print(\"Please enter string with more than 2 charcacter\")\n",
    "else:\n",
    "    subs_string=string[-2:]\n",
    "    print(subs_string*4)"
   ]
  },
  {
   "cell_type": "markdown",
   "metadata": {},
   "source": [
    "#18 Write a Python function to get a string made of its first three characters of a specified string. If the length of the string is less than 3 then return the original string."
   ]
  },
  {
   "cell_type": "code",
   "execution_count": 48,
   "metadata": {},
   "outputs": [
    {
     "name": "stdout",
     "output_type": "stream",
     "text": [
      "Enter a stringuniversal\n",
      "uni\n"
     ]
    }
   ],
   "source": [
    "string=input(\"Enter a string: \")\n",
    "if len(string)<3:\n",
    "    new_string=string\n",
    "else:\n",
    "    new_string=string[:3]\n",
    "print(new_string)"
   ]
  },
  {
   "cell_type": "markdown",
   "metadata": {},
   "source": [
    "#19 Write a Python program to get the last part of a string before a specified character."
   ]
  },
  {
   "cell_type": "code",
   "execution_count": 56,
   "metadata": {},
   "outputs": [
    {
     "name": "stdout",
     "output_type": "stream",
     "text": [
      "enter a stringhello world/Welcome to python\n",
      "Enter the character you want to split/\n",
      "hello world\n"
     ]
    }
   ],
   "source": [
    "a=input(\"enter a string\")\n",
    "b=input(\"Enter the character you want to split\")\n",
    "c=a.rsplit(b)\n",
    "print(c[0])\n",
    "\n"
   ]
  },
  {
   "cell_type": "markdown",
   "metadata": {},
   "source": [
    "Reverse a given string\n"
   ]
  },
  {
   "cell_type": "code",
   "execution_count": 57,
   "metadata": {},
   "outputs": [
    {
     "name": "stdout",
     "output_type": "stream",
     "text": [
      "enter a stringhello\n",
      "olleh\n"
     ]
    }
   ],
   "source": [
    "x=input(\"enter a string: \")\n",
    "print(x[::-1])"
   ]
  },
  {
   "cell_type": "markdown",
   "metadata": {},
   "source": [
    "## List practise question"
   ]
  },
  {
   "cell_type": "markdown",
   "metadata": {},
   "source": [
    "#1 Write a Python program to sum all the items in a list"
   ]
  },
  {
   "cell_type": "code",
   "execution_count": 58,
   "metadata": {},
   "outputs": [
    {
     "name": "stdout",
     "output_type": "stream",
     "text": [
      "Enter values in list sep by space 1 2 34\n",
      "sum is 37 ['1', '2', '34']\n"
     ]
    }
   ],
   "source": [
    "a=input(\"Enter values in list sep by space \")\n",
    "values=a.split()\n",
    "sum=0\n",
    "for i in values:\n",
    "    sum+=int(i)\n",
    "print(\"sum is\",sum,values)\n"
   ]
  },
  {
   "cell_type": "markdown",
   "metadata": {},
   "source": [
    "#2: Write a Python program to multiplies all the items in a list\n"
   ]
  },
  {
   "cell_type": "code",
   "execution_count": 59,
   "metadata": {},
   "outputs": [
    {
     "name": "stdout",
     "output_type": "stream",
     "text": [
      "Enter values in list sep by space 2 3 4\n",
      "Product is : 24\n"
     ]
    }
   ],
   "source": [
    "a=input(\"Enter values in list sep by space \")\n",
    "values=a.split()\n",
    "prod=1\n",
    "for i in values:\n",
    "    prod=prod*int(i)\n",
    "print(\"Product is :\",prod)"
   ]
  },
  {
   "cell_type": "markdown",
   "metadata": {},
   "source": [
    "#3 Write a Python program to get the largest number from a list"
   ]
  },
  {
   "cell_type": "code",
   "execution_count": 60,
   "metadata": {},
   "outputs": [
    {
     "name": "stdout",
     "output_type": "stream",
     "text": [
      "Enter values in list sep by space 23 45 78\n",
      "greatest no is : 78\n"
     ]
    }
   ],
   "source": [
    "a=input(\"Enter values in list sep by space \")\n",
    "values=a.split()\n",
    "max=values[0]\n",
    "for i in values:\n",
    "    if i>max:\n",
    "        max=i\n",
    "print(\"greatest no is :\", max)\n"
   ]
  },
  {
   "cell_type": "code",
   "execution_count": null,
   "metadata": {},
   "outputs": [],
   "source": []
  }
 ],
 "metadata": {
  "kernelspec": {
   "display_name": "Python 3",
   "language": "python",
   "name": "python3"
  },
  "language_info": {
   "codemirror_mode": {
    "name": "ipython",
    "version": 3
   },
   "file_extension": ".py",
   "mimetype": "text/x-python",
   "name": "python",
   "nbconvert_exporter": "python",
   "pygments_lexer": "ipython3",
   "version": "3.7.4"
  }
 },
 "nbformat": 4,
 "nbformat_minor": 2
}
